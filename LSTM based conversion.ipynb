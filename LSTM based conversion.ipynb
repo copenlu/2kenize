{
 "cells": [
  {
   "cell_type": "markdown",
   "metadata": {},
   "source": [
    "# Conversion from Simplified to Traditional Chinese"
   ]
  },
  {
   "cell_type": "markdown",
   "metadata": {},
   "source": [
    "Imports and loading of files. For LSTM, we use embedding size of 1500, 1 layer and the dropout of 0.65."
   ]
  },
  {
   "cell_type": "code",
   "execution_count": 1,
   "metadata": {},
   "outputs": [],
   "source": [
    "import argparse\n",
    "import time\n",
    "import math\n",
    "import os\n",
    "import torch\n",
    "import torch.nn as nn\n",
    "\n",
    "import data\n",
    "import model"
   ]
  },
  {
   "cell_type": "code",
   "execution_count": 2,
   "metadata": {},
   "outputs": [],
   "source": [
    "import dill\n",
    "from chunk_tokenizer import *"
   ]
  },
  {
   "cell_type": "code",
   "execution_count": 3,
   "metadata": {},
   "outputs": [],
   "source": [
    "corpus = dill.load(open('corpusfile','rb'))"
   ]
  },
  {
   "cell_type": "code",
   "execution_count": 4,
   "metadata": {},
   "outputs": [
    {
     "name": "stderr",
     "output_type": "stream",
     "text": [
      "/usr/lib/python3/dist-packages/torch/nn/modules/rnn.py:54: UserWarning: dropout option adds dropout after all but last recurrent layer, so non-zero dropout expects num_layers greater than 1, but got dropout=0.65 and num_layers=1\n",
      "  \"num_layers={}\".format(dropout, num_layers))\n"
     ]
    }
   ],
   "source": [
    "device = torch.device(\"cuda\")\n",
    "ntokens = len(corpus.dictionary)\n",
    "model = model.RNNModel('LSTM', ntokens, 1500, 1500, 1, 0.65, True).to(device)\n",
    "logging.basicConfig(level=logging.ERROR)"
   ]
  },
  {
   "cell_type": "code",
   "execution_count": 5,
   "metadata": {},
   "outputs": [
    {
     "name": "stderr",
     "output_type": "stream",
     "text": [
      "/usr/lib/python3/dist-packages/torch/serialization.py:454: SourceChangeWarning: source code of class 'torch.nn.modules.dropout.Dropout' has changed. you can retrieve the original source code by accessing the object's source attribute or set `torch.nn.Module.dump_patches = True` and use the patch tool to revert the changes.\n",
      "  warnings.warn(msg, SourceChangeWarning)\n",
      "/usr/lib/python3/dist-packages/torch/serialization.py:454: SourceChangeWarning: source code of class 'torch.nn.modules.sparse.Embedding' has changed. you can retrieve the original source code by accessing the object's source attribute or set `torch.nn.Module.dump_patches = True` and use the patch tool to revert the changes.\n",
      "  warnings.warn(msg, SourceChangeWarning)\n",
      "/usr/lib/python3/dist-packages/torch/serialization.py:454: SourceChangeWarning: source code of class 'torch.nn.modules.rnn.LSTM' has changed. you can retrieve the original source code by accessing the object's source attribute or set `torch.nn.Module.dump_patches = True` and use the patch tool to revert the changes.\n",
      "  warnings.warn(msg, SourceChangeWarning)\n",
      "/usr/lib/python3/dist-packages/torch/serialization.py:454: SourceChangeWarning: source code of class 'torch.nn.modules.linear.Linear' has changed. you can retrieve the original source code by accessing the object's source attribute or set `torch.nn.Module.dump_patches = True` and use the patch tool to revert the changes.\n",
      "  warnings.warn(msg, SourceChangeWarning)\n"
     ]
    }
   ],
   "source": [
    "with open('lstm_1.pt', 'rb') as f:\n",
    "    model = torch.load(f)\n",
    "    # after load the rnn params are not a continuous chunk of memory\n",
    "    # this makes them a continuous chunk, and will speed up forward pass\n",
    "    model.rnn.flatten_parameters()"
   ]
  },
  {
   "cell_type": "markdown",
   "metadata": {},
   "source": [
    "Below function uses Dictionary based BPE on the fly in case LSTM encounters an OOV word."
   ]
  },
  {
   "cell_type": "code",
   "execution_count": 7,
   "metadata": {},
   "outputs": [],
   "source": [
    "def divide_further(word):\n",
    "    text, charList = prepare(word)\n",
    "    token_list = []\n",
    "    input_text = text\n",
    "    n = len(word)\n",
    "    for k in range(n, 0, -1):\n",
    "        candidates = [input_text[i:i + k] for i in range(len(input_text) - k + 1)]\n",
    "        for candidate in candidates:\n",
    "            if candidate in corpus.dictionary.word2idx:\n",
    "                token_list.append(candidate)\n",
    "                input_text = re.sub(candidate, '', input_text)\n",
    "    remaining = list(input_text)\n",
    "    for x in remaining:\n",
    "        token_list.append(x)\n",
    "    final = sequencer(token_list, text)\n",
    "    return final"
   ]
  },
  {
   "cell_type": "markdown",
   "metadata": {},
   "source": [
    "The below function prepares the inference sentence for LSTM. It's general function is to convert the words into encoded forms. If a word is not in encodings, it calls `divide_further` for Dictionary based BPE."
   ]
  },
  {
   "cell_type": "code",
   "execution_count": 8,
   "metadata": {},
   "outputs": [],
   "source": [
    "def words_to_ids(sent):\n",
    "    unknown = []\n",
    "    words = create_mappings(sent)\n",
    "    sentence_idx = []\n",
    "    for count, word in enumerate(words):\n",
    "        index_list = []\n",
    "        subdivided_index_list = []\n",
    "        flag = 0\n",
    "        for candidate in word:\n",
    "            subdivision = []\n",
    "            idx = 'UNK'\n",
    "            if candidate in corpus.dictionary.word2idx:\n",
    "                idx = corpus.dictionary.word2idx[candidate]\n",
    "            if idx == 'UNK':\n",
    "                if len(candidate) > 1:\n",
    "                    flag = 1\n",
    "                    more_words = divide_further(candidate)\n",
    "                    for w in more_words:\n",
    "                        if w in corpus.dictionary.word2idx:\n",
    "                            idx = corpus.dictionary.word2idx[w]\n",
    "                            subdivision.append(idx)\n",
    "                        else:\n",
    "                            subdivision.append(corpus.dictionary.word2idx['F'])\n",
    "                            unknown.append(w)\n",
    "                else:\n",
    "                    if len(word) == 1:\n",
    "                        subdivision.append(corpus.dictionary.word2idx['F'])\n",
    "                        unknown.append(candidate)\n",
    "            else:\n",
    "                index_list.append(idx)\n",
    "            if subdivision:\n",
    "                subdivided_index_list.append(subdivision)\n",
    "        if flag == 0:\n",
    "            if len(index_list) == 0:\n",
    "                index_list.append(corpus.dictionary.word2idx['F'])\n",
    "                unknown.append(word[0])\n",
    "            sentence_idx.append(index_list)\n",
    "        else:\n",
    "            flag = 0\n",
    "            transpose = list(map(list, zip(*subdivided_index_list)))\n",
    "            for x in transpose:\n",
    "                sentence_idx.append(x)\n",
    "    \n",
    "    sanity_check_sent = \"\".join([corpus.dictionary.idx2word[i[0]] for i in sentence_idx])\n",
    "    logging.debug(\"Number of chars in LSTM are: \" + str(len(sanity_check_sent)))\n",
    "    logging.debug(\"Number of unknowns are: \" + str(len(unknown)))\n",
    "    return sentence_idx, unknown"
   ]
  },
  {
   "cell_type": "markdown",
   "metadata": {},
   "source": [
    "# Greedy Decoding\n",
    "\n",
    "The below function does greedy decoding for disambiguation."
   ]
  },
  {
   "cell_type": "markdown",
   "metadata": {},
   "source": [
    "![caption](lstm.png)"
   ]
  },
  {
   "cell_type": "code",
   "execution_count": 9,
   "metadata": {},
   "outputs": [],
   "source": [
    "def greedy_decoding(sentence_idx):\n",
    "    final_sent = []\n",
    "    input = torch.randint(ntokens, (1, 1), dtype=torch.long).to(device)\n",
    "    input.fill_(0)\n",
    "    hidden = model.init_hidden(1)\n",
    "    output, hidden = model(input, hidden)\n",
    "    word_weights = []\n",
    "    for word_idx in sentence_idx:\n",
    "        if len(word_idx) > 1:\n",
    "            max_prob = -10.0\n",
    "            max_idx = -9\n",
    "            for idx in word_idx:\n",
    "                if len(word_weights):\n",
    "                    prob = word_weights[idx].item()\n",
    "                else:\n",
    "                    input.fill_(corpus.dictionary.word2idx['F'])\n",
    "                    hidden = model.init_hidden(1)\n",
    "                    output, hidden = model(input, hidden)\n",
    "                    word_weights = output.squeeze().div(1.0).exp().cpu()\n",
    "                    prob = word_weights[idx].item()\n",
    "                if prob > max_prob:\n",
    "                    max_prob = prob\n",
    "                    max_idx = idx\n",
    "            final_sent.append(max_idx)\n",
    "            input.fill_(max_idx)\n",
    "        else:\n",
    "            try:\n",
    "                input.fill_(word_idx[0])\n",
    "            except:\n",
    "                print(sentence_idx)\n",
    "            final_sent.append(word_idx[0])\n",
    "        output, hidden = model(input, hidden)\n",
    "        word_weights = output.squeeze().div(1.0).exp().cpu()\n",
    "    return final_sent"
   ]
  },
  {
   "cell_type": "markdown",
   "metadata": {},
   "source": [
    "Below is the UNK alignment function."
   ]
  },
  {
   "cell_type": "code",
   "execution_count": 10,
   "metadata": {},
   "outputs": [],
   "source": [
    "def decode_unks(trad_sent, unks, sent):\n",
    "    tokens = list(trad_sent)\n",
    "    new_tokens = []\n",
    "    count = 0\n",
    "    for t in tokens:\n",
    "        if t == \"F\":\n",
    "            new_tokens.append(unks[count])\n",
    "            count += 1\n",
    "        else:\n",
    "            new_tokens.append(t)\n",
    "    final_sent = \"\".join(new_tokens)\n",
    "    return final_sent"
   ]
  },
  {
   "cell_type": "markdown",
   "metadata": {},
   "source": [
    "The below sentence convertes simplified to traditional."
   ]
  },
  {
   "cell_type": "code",
   "execution_count": 11,
   "metadata": {},
   "outputs": [],
   "source": [
    "def convert_trad(sent):\n",
    "    sentence_idx, unks = words_to_ids(sent)\n",
    "    if unks:\n",
    "        logging.debug(\"UNKs are \" + str(\" \".join(x for x in unks)))\n",
    "    indices = greedy_decoding(sentence_idx)\n",
    "    words = [corpus.dictionary.idx2word[idx] for idx in indices]\n",
    "    trad_sent = \"\".join(words)\n",
    "    trad_sent = decode_unks(trad_sent, unks, sent)\n",
    "    return trad_sent"
   ]
  },
  {
   "cell_type": "markdown",
   "metadata": {},
   "source": [
    "The examples for output are:"
   ]
  },
  {
   "cell_type": "code",
   "execution_count": 29,
   "metadata": {},
   "outputs": [
    {
     "name": "stderr",
     "output_type": "stream",
     "text": [
      "DEBUG:root:Number of chars before and after tokenization: 104 104\n",
      "DEBUG:root:Number of tokens before and after mappings: 64 64\n",
      "DEBUG:root:Number of chars in LSTM are: 104\n",
      "DEBUG:root:Number of unknowns are: 0\n"
     ]
    },
    {
     "data": {
      "text/plain": [
       "'香港大學為亞洲之國際大學，藉國際化、創新性及跨範疇發揮其影響力；憑卓越研究、優秀教學、知識與技術之交流轉移，吸引及培育全球英才；並透過參與環球事務、其地區影響力及與中國內地之緊密連繫，為促進社會進步作出貢獻。'"
      ]
     },
     "execution_count": 29,
     "metadata": {},
     "output_type": "execute_result"
    }
   ],
   "source": [
    "sent = \"香港大学为亚洲之国际大学，借国际化、创新性及跨范畴发挥其影响力；凭卓越研究、优秀教学、知识与技术之交流转移，吸引及培育全球英才；并透过参与环球事务、其地区影响力及与中国内地之紧密连系，为促进社会进步作出贡献。\"\n",
    "convert_trad(sent)"
   ]
  },
  {
   "cell_type": "code",
   "execution_count": 30,
   "metadata": {},
   "outputs": [
    {
     "name": "stderr",
     "output_type": "stream",
     "text": [
      "DEBUG:root:Number of chars before and after tokenization: 69 69\n",
      "DEBUG:root:Number of tokens before and after mappings: 34 34\n",
      "DEBUG:root:Number of chars in LSTM are: 69\n",
      "DEBUG:root:Number of unknowns are: 0\n"
     ]
    },
    {
     "data": {
      "text/plain": [
       "'自然語言處理是人工智能和語言學領域的分支學科。此領域探討如何處理及運用自然語言；自然語言處理包括多方面和步驟，基本有認知、理解、生成等部分'"
      ]
     },
     "execution_count": 30,
     "metadata": {},
     "output_type": "execute_result"
    }
   ],
   "source": [
    "sent = \"自然语言处理是人工智能和语言学领域的分支学科。此领域探讨如何处理及运用自然语言；自然语言处理包括多方面和步骤，基本有认知、理解、生成等部分\"\n",
    "convert_trad(sent)"
   ]
  }
 ],
 "metadata": {
  "kernelspec": {
   "display_name": "Python 3",
   "language": "python",
   "name": "python3"
  },
  "language_info": {
   "codemirror_mode": {
    "name": "ipython",
    "version": 3
   },
   "file_extension": ".py",
   "mimetype": "text/x-python",
   "name": "python",
   "nbconvert_exporter": "python",
   "pygments_lexer": "ipython3",
   "version": "3.6.9"
  }
 },
 "nbformat": 4,
 "nbformat_minor": 2
}
